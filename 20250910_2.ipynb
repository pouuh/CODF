{
 "cells": [
  {
   "cell_type": "code",
   "execution_count": null,
   "id": "9381358f",
   "metadata": {},
   "outputs": [],
   "source": [
    "!pip install earthengine-api geemap folium\n"
   ]
  },
  {
   "cell_type": "code",
   "execution_count": 4,
   "id": "df3d099a",
   "metadata": {},
   "outputs": [
    {
     "name": "stdout",
     "output_type": "stream",
     "text": [
      "earthengine-api           1.6.6                    pypi_0    pypi\n",
      "geemap                    0.36.2                   pypi_0    pypi\n",
      "pandas                    2.3.2           py310h0158d43_0    conda-forge\n",
      "rasterio                  1.4.3           py310hb0078ae_1    conda-forge\n"
     ]
    }
   ],
   "source": [
    "!conda list -n gee_env | grep -E \"(earthengine|geemap|pandas|xarray|rasterio)\"\n"
   ]
  },
  {
   "cell_type": "code",
   "execution_count": 5,
   "id": "cba1df5b",
   "metadata": {},
   "outputs": [
    {
     "name": "stdout",
     "output_type": "stream",
     "text": [
      "All required packages are installed.\n"
     ]
    }
   ],
   "source": [
    "print(\"All required packages are installed.\")\n"
   ]
  },
  {
   "cell_type": "code",
   "execution_count": 6,
   "id": "7db2acbb",
   "metadata": {},
   "outputs": [
    {
     "ename": "EEException",
     "evalue": "Please authorize access to your Earth Engine account by running\n\nearthengine authenticate\n\nin your command line, or ee.Authenticate() in Python, and then retry.",
     "output_type": "error",
     "traceback": [
      "\u001b[0;31m---------------------------------------------------------------------------\u001b[0m",
      "\u001b[0;31mEEException\u001b[0m                               Traceback (most recent call last)",
      "Cell \u001b[0;32mIn[6], line 12\u001b[0m\n\u001b[1;32m      9\u001b[0m \u001b[38;5;28;01mfrom\u001b[39;00m\u001b[38;5;250m \u001b[39m\u001b[38;5;21;01mdatetime\u001b[39;00m\u001b[38;5;250m \u001b[39m\u001b[38;5;28;01mimport\u001b[39;00m datetime\n\u001b[1;32m     11\u001b[0m \u001b[38;5;66;03m# Initialize Earth Engine\u001b[39;00m\n\u001b[0;32m---> 12\u001b[0m \u001b[43mee\u001b[49m\u001b[38;5;241;43m.\u001b[39;49m\u001b[43mInitialize\u001b[49m\u001b[43m(\u001b[49m\u001b[43mproject\u001b[49m\u001b[38;5;241;43m=\u001b[39;49m\u001b[38;5;124;43m'\u001b[39;49m\u001b[38;5;124;43mee-zcs\u001b[39;49m\u001b[38;5;124;43m'\u001b[39;49m\u001b[43m)\u001b[49m\n\u001b[1;32m     14\u001b[0m \u001b[38;5;66;03m# Load feature collections\u001b[39;00m\n\u001b[1;32m     15\u001b[0m CODF_polygons \u001b[38;5;241m=\u001b[39m ee\u001b[38;5;241m.\u001b[39mFeatureCollection(\u001b[38;5;124m\"\u001b[39m\u001b[38;5;124mprojects/ee-zcs/assets/CODF_polygons\u001b[39m\u001b[38;5;124m\"\u001b[39m)\n",
      "File \u001b[0;32m/projectnb/modislc/chishan/.conda/envs/gee_env/lib/python3.10/site-packages/ee/_utils.py:38\u001b[0m, in \u001b[0;36maccept_opt_prefix.<locals>.opt_fixed.<locals>.wrapper\u001b[0;34m(*args, **kwargs)\u001b[0m\n\u001b[1;32m     36\u001b[0m     \u001b[38;5;28;01mif\u001b[39;00m new_key \u001b[38;5;129;01mnot\u001b[39;00m \u001b[38;5;129;01min\u001b[39;00m kwargs:\n\u001b[1;32m     37\u001b[0m       kwargs[new_key] \u001b[38;5;241m=\u001b[39m old_key_val\n\u001b[0;32m---> 38\u001b[0m \u001b[38;5;28;01mreturn\u001b[39;00m \u001b[43mfunc\u001b[49m\u001b[43m(\u001b[49m\u001b[38;5;241;43m*\u001b[39;49m\u001b[43margs\u001b[49m\u001b[43m,\u001b[49m\u001b[43m \u001b[49m\u001b[38;5;241;43m*\u001b[39;49m\u001b[38;5;241;43m*\u001b[39;49m\u001b[43mkwargs\u001b[49m\u001b[43m)\u001b[49m\n",
      "File \u001b[0;32m/projectnb/modislc/chishan/.conda/envs/gee_env/lib/python3.10/site-packages/ee/__init__.py:188\u001b[0m, in \u001b[0;36mInitialize\u001b[0;34m(credentials, url, cloud_api_key, http_transport, project)\u001b[0m\n\u001b[1;32m    171\u001b[0m \u001b[38;5;250m\u001b[39m\u001b[38;5;124;03m\"\"\"Initialize the EE library.\u001b[39;00m\n\u001b[1;32m    172\u001b[0m \n\u001b[1;32m    173\u001b[0m \u001b[38;5;124;03mIf this hasn't been called by the time any object constructor is used,\u001b[39;00m\n\u001b[0;32m   (...)\u001b[0m\n\u001b[1;32m    185\u001b[0m \u001b[38;5;124;03m  project: The client project ID or number to use when making API calls.\u001b[39;00m\n\u001b[1;32m    186\u001b[0m \u001b[38;5;124;03m\"\"\"\u001b[39;00m\n\u001b[1;32m    187\u001b[0m \u001b[38;5;28;01mif\u001b[39;00m credentials \u001b[38;5;241m==\u001b[39m \u001b[38;5;124m'\u001b[39m\u001b[38;5;124mpersistent\u001b[39m\u001b[38;5;124m'\u001b[39m:\n\u001b[0;32m--> 188\u001b[0m   credentials \u001b[38;5;241m=\u001b[39m \u001b[43mdata\u001b[49m\u001b[38;5;241;43m.\u001b[39;49m\u001b[43mget_persistent_credentials\u001b[49m\u001b[43m(\u001b[49m\u001b[43m)\u001b[49m\n\u001b[1;32m    189\u001b[0m \u001b[38;5;28;01mif\u001b[39;00m \u001b[38;5;129;01mnot\u001b[39;00m project \u001b[38;5;129;01mand\u001b[39;00m credentials \u001b[38;5;129;01mand\u001b[39;00m \u001b[38;5;28mhasattr\u001b[39m(credentials, \u001b[38;5;124m'\u001b[39m\u001b[38;5;124mquota_project_id\u001b[39m\u001b[38;5;124m'\u001b[39m):\n\u001b[1;32m    190\u001b[0m   project \u001b[38;5;241m=\u001b[39m credentials\u001b[38;5;241m.\u001b[39mquota_project_id\n",
      "File \u001b[0;32m/projectnb/modislc/chishan/.conda/envs/gee_env/lib/python3.10/site-packages/ee/data.py:282\u001b[0m, in \u001b[0;36mget_persistent_credentials\u001b[0;34m()\u001b[0m\n\u001b[1;32m    280\u001b[0m   \u001b[38;5;28;01mif\u001b[39;00m oauth\u001b[38;5;241m.\u001b[39mis_valid_credentials(credentials):\n\u001b[1;32m    281\u001b[0m     \u001b[38;5;28;01mreturn\u001b[39;00m credentials\n\u001b[0;32m--> 282\u001b[0m \u001b[38;5;28;01mraise\u001b[39;00m ee_exception\u001b[38;5;241m.\u001b[39mEEException(  \u001b[38;5;66;03m# pylint: disable=raise-missing-from\u001b[39;00m\n\u001b[1;32m    283\u001b[0m     \u001b[38;5;124m'\u001b[39m\u001b[38;5;124mPlease authorize access to your Earth Engine account by \u001b[39m\u001b[38;5;124m'\u001b[39m\n\u001b[1;32m    284\u001b[0m     \u001b[38;5;124m'\u001b[39m\u001b[38;5;124mrunning\u001b[39m\u001b[38;5;130;01m\\n\u001b[39;00m\u001b[38;5;130;01m\\n\u001b[39;00m\u001b[38;5;124mearthengine authenticate\u001b[39m\u001b[38;5;130;01m\\n\u001b[39;00m\u001b[38;5;130;01m\\n\u001b[39;00m\u001b[38;5;124m'\u001b[39m\n\u001b[1;32m    285\u001b[0m     \u001b[38;5;124m'\u001b[39m\u001b[38;5;124min your command line, or ee.Authenticate() in Python, and then retry.\u001b[39m\u001b[38;5;124m'\u001b[39m\n\u001b[1;32m    286\u001b[0m )\n",
      "\u001b[0;31mEEException\u001b[0m: Please authorize access to your Earth Engine account by running\n\nearthengine authenticate\n\nin your command line, or ee.Authenticate() in Python, and then retry."
     ]
    }
   ],
   "source": [
    "\"\"\"\n",
    "Google Earth Engine Visualization Script\n",
    "Create interactive maps showing CODF features and protected areas\n",
    "\"\"\"\n",
    "\n",
    "import ee\n",
    "import geemap\n",
    "import os\n",
    "from datetime import datetime\n",
    "\n",
    "# Initialize Earth Engine\n",
    "ee.Initialize(project='ee-zcs')\n",
    "\n",
    "# Load feature collections\n",
    "CODF_polygons = ee.FeatureCollection(\"projects/ee-zcs/assets/CODF_polygons\")\n",
    "CODF_lines = ee.FeatureCollection(\"projects/ee-zcs/assets/CODF_lines\")\n",
    "protected_areas = ee.FeatureCollection('WCMC/WDPA/current/polygons')\n",
    "\n",
    "# Visualization parameters for protected areas\n",
    "vis_params = {\n",
    "    'palette': ['2ed033', '5aff05', '67b9ff', '5844ff', '0a7618', '2c05ff'],\n",
    "    'min': 0.0,\n",
    "    'max': 1550000.0,\n",
    "    'opacity': 0.8,\n",
    "}\n",
    "\n",
    "# Create painted image for protected areas\n",
    "image = ee.Image().float().paint(protected_areas, 'REP_AREA')\n",
    "\n",
    "# Initialize map centered on study area\n",
    "Map = geemap.Map(center=[-17.724, 41.104], zoom=6)\n",
    "\n",
    "# Add layers to map\n",
    "Map.addLayer(image, vis_params, 'Protected Areas')\n",
    "Map.addLayer(protected_areas, {}, 'Protected Areas (Inspector)', False)\n",
    "Map.addLayer(CODF_polygons, {}, 'CODF Polygons')\n",
    "\n",
    "# Create buffered versions of CODF features\n",
    "buffer_distance = 25000.0  # 25km buffer\n",
    "\n",
    "codf_polygons_buff = CODF_polygons.map(lambda f: f.buffer(buffer_distance))\n",
    "codf_lines_buff = CODF_lines.map(lambda f: f.buffer(buffer_distance))\n",
    "\n",
    "# Add buffered layers\n",
    "Map.addLayer(codf_polygons_buff, {}, 'CODF Polygons (25km buffer)')\n",
    "Map.addLayer(codf_lines_buff, {}, 'CODF Lines (25km buffer)')\n",
    "\n",
    "# Save map as HTML file\n",
    "timestamp = datetime.now().strftime(\"%Y%m%d_%H%M%S\")\n",
    "filename = f\"gee_visualization_{timestamp}.html\"\n",
    "Map.to_html(filename)\n",
    "\n",
    "print(f\"Map saved as: {filename}\")\n",
    "print(\"Open this file in your browser to view the interactive map\")\n",
    "\n",
    "# Display the map (for Jupyter environments)\n",
    "Map\n"
   ]
  }
 ],
 "metadata": {
  "kernelspec": {
   "display_name": "Python 3 (ipykernel)",
   "language": "python",
   "name": "python3"
  },
  "language_info": {
   "codemirror_mode": {
    "name": "ipython",
    "version": 3
   },
   "file_extension": ".py",
   "mimetype": "text/x-python",
   "name": "python",
   "nbconvert_exporter": "python",
   "pygments_lexer": "ipython3",
   "version": "3.10.18"
  }
 },
 "nbformat": 4,
 "nbformat_minor": 5
}

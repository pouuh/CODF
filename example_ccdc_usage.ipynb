{
 "cells": [
  {
   "cell_type": "markdown",
   "id": "edc98431",
   "metadata": {},
   "source": [
    "# CCDC Analysis - Usage Examples\n",
    "\n",
    "This notebook demonstrates how to use the `ccdc_analysis` module for easy CCDC analysis."
   ]
  },
  {
   "cell_type": "code",
   "execution_count": 1,
   "id": "47ede7d0",
   "metadata": {},
   "outputs": [
    {
     "ename": "ModuleNotFoundError",
     "evalue": "No module named 'ccdc_analysis'",
     "output_type": "error",
     "traceback": [
      "\u001b[0;31m---------------------------------------------------------------------------\u001b[0m",
      "\u001b[0;31mModuleNotFoundError\u001b[0m                       Traceback (most recent call last)",
      "Cell \u001b[0;32mIn[1], line 7\u001b[0m\n\u001b[1;32m      4\u001b[0m \u001b[38;5;28;01mimport\u001b[39;00m\u001b[38;5;250m \u001b[39m\u001b[38;5;21;01mmatplotlib\u001b[39;00m\u001b[38;5;21;01m.\u001b[39;00m\u001b[38;5;21;01mpyplot\u001b[39;00m\u001b[38;5;250m \u001b[39m\u001b[38;5;28;01mas\u001b[39;00m\u001b[38;5;250m \u001b[39m\u001b[38;5;21;01mplt\u001b[39;00m\n\u001b[1;32m      6\u001b[0m \u001b[38;5;66;03m# Import the CCDC analysis module\u001b[39;00m\n\u001b[0;32m----> 7\u001b[0m \u001b[38;5;28;01mfrom\u001b[39;00m\u001b[38;5;250m \u001b[39m\u001b[38;5;21;01mccdc_analysis\u001b[39;00m\u001b[38;5;250m \u001b[39m\u001b[38;5;28;01mimport\u001b[39;00m run_ccdc_analysis, export_ccdc_results\n\u001b[1;32m      9\u001b[0m \u001b[38;5;66;03m# Initialize Earth Engine\u001b[39;00m\n\u001b[1;32m     10\u001b[0m ee\u001b[38;5;241m.\u001b[39mInitialize()\n",
      "\u001b[0;31mModuleNotFoundError\u001b[0m: No module named 'ccdc_analysis'"
     ]
    }
   ],
   "source": [
    "# Import required libraries\n",
    "import ee\n",
    "import pandas as pd\n",
    "import matplotlib.pyplot as plt\n",
    "\n",
    "# Import the CCDC analysis module\n",
    "from ccdc_analysis import run_ccdc_analysis, export_ccdc_results\n",
    "\n",
    "# Initialize Earth Engine\n",
    "ee.Initialize()\n"
   ]
  },
  {
   "cell_type": "markdown",
   "id": "9ab7e5f2",
   "metadata": {},
   "source": [
    "## Example 1: Basic Usage - Single Point Analysis\n",
    "\n",
    "Run CCDC analysis for a single point with minimal parameters."
   ]
  },
  {
   "cell_type": "code",
   "execution_count": null,
   "id": "8725b0c7",
   "metadata": {},
   "outputs": [],
   "source": [
    "# Define parameters\n",
    "lat = -10.5\n",
    "lon = -50.2\n",
    "start_year = 2000\n",
    "end_year = 2022\n",
    "target_year = 2010\n",
    "\n",
    "# Run analysis\n",
    "result = run_ccdc_analysis(\n",
    "    lat=lat,\n",
    "    lon=lon,\n",
    "    start_year=start_year,\n",
    "    end_year=end_year,\n",
    "    target_year=target_year,\n",
    "    point_id=1,\n",
    "    use_false_color=False  # True color RGB\n",
    ")\n",
    "\n",
    "# Display the plot\n",
    "plt.show()\n"
   ]
  },
  {
   "cell_type": "markdown",
   "id": "37ec30c2",
   "metadata": {},
   "source": [
    "## Example 2: Using Data from CSV File\n",
    "\n",
    "Load point data from CSV and run analysis for a specific point."
   ]
  },
  {
   "cell_type": "code",
   "execution_count": null,
   "id": "8926b6d8",
   "metadata": {},
   "outputs": [],
   "source": [
    "# Load validation points\n",
    "csv_file = '/projectnb/modislc/users/chishan/data/MapBiomas/MAPBIOMAS/mapbiomas_85k_col2_1_points_english.csv'\n",
    "df_points = pd.read_csv(csv_file)\n",
    "\n",
    "# Select a specific point\n",
    "point_id = 37464\n",
    "point_data = df_points[df_points['TARGETID'] == point_id].iloc[0]\n",
    "\n",
    "# Extract parameters\n",
    "lat = point_data['LAT']\n",
    "lon = point_data['LON']\n",
    "biome = point_data.get('BIOMA_250K', 'Unknown')\n",
    "\n",
    "# Run analysis with all metadata\n",
    "result = run_ccdc_analysis(\n",
    "    lat=lat,\n",
    "    lon=lon,\n",
    "    start_year=2000,\n",
    "    end_year=2022,\n",
    "    target_year=2006,\n",
    "    point_id=point_id,\n",
    "    biome=biome,\n",
    "    use_false_color=True  # False color (NIR-R-G)\n",
    ")\n",
    "\n",
    "plt.show()\n"
   ]
  },
  {
   "cell_type": "markdown",
   "id": "2d0455e4",
   "metadata": {},
   "source": [
    "## Example 3: Batch Processing Multiple Points\n",
    "\n",
    "Process multiple points and save results to files."
   ]
  },
  {
   "cell_type": "code",
   "execution_count": null,
   "id": "e4d8c9a4",
   "metadata": {},
   "outputs": [],
   "source": [
    "# Load validation points\n",
    "csv_file = '/projectnb/modislc/users/chishan/data/MapBiomas/MAPBIOMAS/mapbiomas_85k_col2_1_points_english.csv'\n",
    "df_points = pd.read_csv(csv_file)\n",
    "\n",
    "# Select points to process (e.g., first 5 points)\n",
    "points_to_process = df_points.head(5)\n",
    "\n",
    "# Output directory\n",
    "output_dir = '/usr2/postdoc/chishan/analysis_results/ccdc_batch'\n",
    "\n",
    "# Process each point\n",
    "for idx, row in points_to_process.iterrows():\n",
    "    point_id = row['TARGETID']\n",
    "    lat = row['LAT']\n",
    "    lon = row['LON']\n",
    "    biome = row.get('BIOMA_250K', 'Unknown')\n",
    "    \n",
    "    print(f\"\\nProcessing Point {point_id}...\")\n",
    "    \n",
    "    try:\n",
    "        result = run_ccdc_analysis(\n",
    "            lat=lat,\n",
    "            lon=lon,\n",
    "            start_year=2000,\n",
    "            end_year=2022,\n",
    "            target_year=2010,\n",
    "            point_id=point_id,\n",
    "            biome=biome,\n",
    "            use_false_color=False,\n",
    "            verbose=True\n",
    "        )\n",
    "        \n",
    "        # Export results\n",
    "        export_ccdc_results(result, output_dir, point_id)\n",
    "        \n",
    "        # Close the figure to free memory\n",
    "        plt.close(result['fig'])\n",
    "        \n",
    "    except Exception as e:\n",
    "        print(f\"Error processing point {point_id}: {e}\")\n",
    "\n",
    "print(f\"\\nBatch processing complete! Results saved to: {output_dir}\")\n"
   ]
  },
  {
   "cell_type": "markdown",
   "id": "bf7cde5a",
   "metadata": {},
   "source": [
    "## Example 4: Access and Analyze Results\n",
    "\n",
    "Work with the returned data for custom analysis."
   ]
  },
  {
   "cell_type": "code",
   "execution_count": null,
   "id": "262c8817",
   "metadata": {},
   "outputs": [],
   "source": [
    "# Run analysis\n",
    "result = run_ccdc_analysis(\n",
    "    lat=-10.5,\n",
    "    lon=-50.2,\n",
    "    start_year=2000,\n",
    "    end_year=2022,\n",
    "    target_year=2010,\n",
    "    point_id=999\n",
    ")\n",
    "\n",
    "# Access the time series DataFrame\n",
    "df = result['df_ccdc']\n",
    "print(\"\\nTime Series Data:\")\n",
    "print(df.head())\n",
    "\n",
    "# Access segment information\n",
    "segments = result['segments']\n",
    "print(f\"\\nNumber of segments: {len(segments)}\")\n",
    "for idx, start_dt, end_dt in segments:\n",
    "    print(f\"Segment {idx + 1}: {start_dt.date()} to {end_dt.date()}\")\n",
    "\n",
    "# Calculate custom statistics\n",
    "print(\"\\nOverall Statistics:\")\n",
    "print(f\"Mean NDVI: {df['ndvi'].mean():.3f}\")\n",
    "print(f\"Std NDVI: {df['ndvi'].std():.3f}\")\n",
    "print(f\"RMSE: {((df['ndvi'] - df['fit']) ** 2).mean() ** 0.5:.3f}\")\n",
    "\n",
    "# Save to custom location\n",
    "df.to_csv('/usr2/postdoc/chishan/my_ccdc_results.csv', index=False)\n",
    "result['fig'].savefig('/usr2/postdoc/chishan/my_ccdc_plot.png', dpi=300, bbox_inches='tight')\n",
    "\n",
    "plt.show()\n"
   ]
  },
  {
   "cell_type": "markdown",
   "id": "788bc0ce",
   "metadata": {},
   "source": [
    "## Example 5: Customize CCDC Parameters\n",
    "\n",
    "Fine-tune CCDC algorithm parameters for specific use cases."
   ]
  },
  {
   "cell_type": "code",
   "execution_count": null,
   "id": "0db2a8e3",
   "metadata": {},
   "outputs": [],
   "source": [
    "# Run with custom CCDC parameters\n",
    "result = run_ccdc_analysis(\n",
    "    lat=-10.5,\n",
    "    lon=-50.2,\n",
    "    start_year=2000,\n",
    "    end_year=2022,\n",
    "    target_year=2010,\n",
    "    point_id=1234,\n",
    "    # Imagery options\n",
    "    use_false_color=True,\n",
    "    buffer_distance=2000,  # 2km buffer for imagery\n",
    "    cloud_threshold=20,    # Maximum 20% cloud cover\n",
    "    # CCDC algorithm parameters\n",
    "    ccdc_lambda=15/10000.0,  # More sensitive to changes\n",
    "    ccdc_max_iter=15000,     # More iterations\n",
    "    min_observations=8,      # Require more observations per segment\n",
    "    chi_square_prob=0.95,    # Different confidence level\n",
    "    verbose=True\n",
    ")\n",
    "\n",
    "plt.show()\n"
   ]
  }
 ],
 "metadata": {
  "kernelspec": {
   "display_name": "Python 3 (ipykernel)",
   "language": "python",
   "name": "python3"
  },
  "language_info": {
   "codemirror_mode": {
    "name": "ipython",
    "version": 3
   },
   "file_extension": ".py",
   "mimetype": "text/x-python",
   "name": "python",
   "nbconvert_exporter": "python",
   "pygments_lexer": "ipython3",
   "version": "3.10.18"
  }
 },
 "nbformat": 4,
 "nbformat_minor": 5
}

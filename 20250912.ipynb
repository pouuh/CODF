{
 "cells": [
  {
   "cell_type": "code",
   "execution_count": 1,
   "id": "68568f6d",
   "metadata": {},
   "outputs": [
    {
     "name": "stderr",
     "output_type": "stream",
     "text": [
      "*** Earth Engine *** Share your feedback by taking our Annual Developer Satisfaction Survey: https://google.qualtrics.com/jfe/form/SV_7TDKVSyKvBdmMqW?ref=4i2o6\n"
     ]
    }
   ],
   "source": [
    "import ee \n",
    "import geemap\n",
    "import os\n",
    "ee.Initialize(project='ee-zcs')\n"
   ]
  },
  {
   "cell_type": "code",
   "execution_count": 3,
   "id": "c49984ca",
   "metadata": {},
   "outputs": [
    {
     "data": {
      "text/html": [
       "\n",
       "            <style>\n",
       "                .geemap-dark {\n",
       "                    --jp-widgets-color: white;\n",
       "                    --jp-widgets-label-color: white;\n",
       "                    --jp-ui-font-color1: white;\n",
       "                    --jp-layout-color2: #454545;\n",
       "                    background-color: #383838;\n",
       "                }\n",
       "\n",
       "                .geemap-dark .jupyter-button {\n",
       "                    --jp-layout-color3: #383838;\n",
       "                }\n",
       "\n",
       "                .geemap-colab {\n",
       "                    background-color: var(--colab-primary-surface-color, white);\n",
       "                }\n",
       "\n",
       "                .geemap-colab .jupyter-button {\n",
       "                    --jp-layout-color3: var(--colab-primary-surface-color, white);\n",
       "                }\n",
       "            </style>\n",
       "            "
      ],
      "text/plain": [
       "<IPython.core.display.HTML object>"
      ]
     },
     "metadata": {},
     "output_type": "display_data"
    },
    {
     "data": {
      "application/vnd.jupyter.widget-view+json": {
       "model_id": "23ca1c3ffe58449baa1383831d2e181c",
       "version_major": 2,
       "version_minor": 0
      },
      "text/plain": [
       "Map(center=[0, 0], controls=(WidgetControl(options=['position', 'transparent_bg'], position='topright', transp…"
      ]
     },
     "execution_count": 3,
     "metadata": {},
     "output_type": "execute_result"
    }
   ],
   "source": [
    "Map = geemap.Map()\n",
    "Map.layout.height = '1200px'\n",
    "Map\n",
    "# Map\n"
   ]
  },
  {
   "cell_type": "code",
   "execution_count": null,
   "id": "a5718b8d",
   "metadata": {},
   "outputs": [],
   "source": [
    "dataset = ee.FeatureCollection('WCMC/WDPA/current/polygons')\n",
    "visParams = {\n",
    "  'palette': ['2ed033', '5aff05', '67b9ff', '5844ff', '0a7618', '2c05ff'],\n",
    "  'min': 0.0,\n",
    "  'max': 1550000.0,\n",
    "  'opacity': 0.8,\n",
    "}\n",
    "image = ee.Image().float().paint(dataset, 'REP_AREA')\n",
    "Map.setCenter(41.104, -17.724, 6)\n",
    "Map.addLayer(image, visParams, 'WCMC/WDPA/current/polygons')\n",
    "Map.addLayer(dataset, {}, 'for Inspector', False)\n",
    "\n",
    "# Define CODF_polygons and CODF_lines if not already defined\n",
    "CODF_polygons = ee.FeatureCollection(\"projects/ee-zcs/assets/CODF_polygons\")\n",
    "CODF_lines = ee.FeatureCollection(\"projects/ee-zcs/assets/CODF_lines\")\n",
    "\n",
    "Map.addLayer(CODF_polygons, {}, 'polygons')\n",
    "\n",
    "codf_polygons_buff = CODF_polygons.map(lambda feature: feature.buffer(25000.0))\n",
    "codf_lines_buff = CODF_lines.map(lambda feature: feature.buffer(25000.0))\n",
    "\n",
    "Map.addLayer(codf_polygons_buff, {}, 'polygons_buffer')\n",
    "Map.addLayer(codf_lines_buff, {}, 'lines_buffer')\n"
   ]
  },
  {
   "cell_type": "code",
   "execution_count": null,
   "id": "b4285ad5",
   "metadata": {},
   "outputs": [],
   "source": []
  }
 ],
 "metadata": {
  "kernelspec": {
   "display_name": "Python 3 (ipykernel)",
   "language": "python",
   "name": "python3"
  },
  "language_info": {
   "codemirror_mode": {
    "name": "ipython",
    "version": 3
   },
   "file_extension": ".py",
   "mimetype": "text/x-python",
   "name": "python",
   "nbconvert_exporter": "python",
   "pygments_lexer": "ipython3",
   "version": "3.10.18"
  }
 },
 "nbformat": 4,
 "nbformat_minor": 5
}
